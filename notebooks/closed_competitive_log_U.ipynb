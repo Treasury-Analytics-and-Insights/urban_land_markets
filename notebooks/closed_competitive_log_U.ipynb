{
 "cells": [
  {
   "cell_type": "markdown",
   "metadata": {},
   "source": [
    "# Closed competitive - log Utility\n",
    "\n",
    "type some text"
   ]
  },
  {
   "cell_type": "code",
   "execution_count": 20,
   "metadata": {},
   "outputs": [],
   "source": [
    "import matplotlib.pyplot as plt\n",
    "import numpy as np\n",
    "import pandas as pd\n",
    "from scipy.integrate import quad\n",
    "from scipy.optimize import newton"
   ]
  },
  {
   "cell_type": "markdown",
   "metadata": {},
   "source": [
    "## Parameters\n",
    "\n",
    "### Consumers\n",
    "\n",
    "| parameter | description                                    |\n",
    "|-----------|------------------------------------------------|\n",
    "| N         | population                                     |\n",
    "| W         | wages at the centre                            |\n",
    "| t         | marginal cost of primary commute               |\n",
    "| t_        | fixed cost of alternative commute              |\n",
    "| θ         | job centralisation weight                      |\n",
    "| a         | coefficient for log utility of housing, H      |\n"
   ]
  },
  {
   "cell_type": "code",
   "execution_count": 21,
   "metadata": {},
   "outputs": [],
   "source": [
    "N = 1\n",
    "W = 5\n",
    "t = 2.5\n",
    "t_ = 0\n",
    "theta = 0.2\n",
    "a = 1"
   ]
  },
  {
   "cell_type": "markdown",
   "metadata": {},
   "source": [
    "### Developers\n",
    "\n",
    "| parameter | description                                    |\n",
    "|-----------|------------------------------------------------|\n",
    "| r_        | land rent at the urban/rural boundary          |\n",
    "| δ         | cost elasticity of building height             |\n",
    "| c0        | cost scalar for building height                | \n"
   ]
  },
  {
   "cell_type": "code",
   "execution_count": 22,
   "metadata": {},
   "outputs": [],
   "source": [
    "r_ = 1\n",
    "delta = 1.6\n",
    "c0 = 1"
   ]
  },
  {
   "cell_type": "markdown",
   "metadata": {},
   "source": [
    "### Landlords\n",
    "\n",
    "| parameter | description                                    |\n",
    "|-----------|------------------------------------------------|\n",
    "| landlords  | t_I       | marginal tax rate for rental income            |\n",
    "| landlords  | t_CG      | marginal tax rate for capital gains income     |\n",
    "| landlords  | t_ID      | rate of tax deductibility                      |\n",
    "| landlords  | t_R       | average tax rate for local government          |\n",
    "| landlords  | f         | maintenance costs of housing                   |\n",
    "| landlords  | β         | share of debt financing vs equity              |\n",
    "| landlords  | π         | general price inflation (nominal)              |\n",
    "| landlords  | g         | house price inflation net of general inflation |\n",
    "| landlords  | i         | interest rate on borrowing                     |\n",
    "| landlords  | φ         | equity risk prem                               |\n"
   ]
  },
  {
   "cell_type": "code",
   "execution_count": 23,
   "metadata": {},
   "outputs": [],
   "source": [
    "t_I = 0.33\n",
    "t_CG = 0.15\n",
    "t_ID = t_I\n",
    "t_R = 0.0033\n",
    "f = 0.01\n",
    "beta = 0.5\n",
    "pi = 0.015\n",
    "g = 0.015\n",
    "i = 0.045\n",
    "phi = 0.03"
   ]
  },
  {
   "cell_type": "markdown",
   "metadata": {},
   "source": [
    "## Derived parameters\n",
    "The Poterba scaler:"
   ]
  },
  {
   "cell_type": "code",
   "execution_count": 24,
   "metadata": {},
   "outputs": [],
   "source": [
    "j = ((beta * i + f + t_R) * (1 - t_ID) + (1 - beta) * (i + phi) - (g + pi) * (1 - t_CG)) / (1 - t_I)"
   ]
  },
  {
   "cell_type": "code",
   "execution_count": 25,
   "metadata": {},
   "outputs": [],
   "source": [
    "B = -theta * t * delta / (a * (delta - 1))\n",
    "A = lambda d_: 2 * np.pi / a * delta * j * r_ / (delta - 1) * np.exp(-B * d_)\n"
   ]
  },
  {
   "cell_type": "markdown",
   "metadata": {},
   "source": [
    "## Solve for equilibrium city radius\n"
   ]
  },
  {
   "cell_type": "code",
   "execution_count": 26,
   "metadata": {},
   "outputs": [],
   "source": [
    "city_radius_eqn = lambda d_: A(d_) / B * (d_ * np.exp(B * d_) - (np.exp(B * d_) - 1) / B) - N\n",
    "d_ = newton(city_radius_eqn, 1)"
   ]
  },
  {
   "cell_type": "markdown",
   "metadata": {},
   "source": [
    "## Solve initial condition for rent at the centre"
   ]
  },
  {
   "cell_type": "code",
   "execution_count": 27,
   "metadata": {},
   "outputs": [],
   "source": [
    "p0 = delta * c0 ** (1 / delta) * j * (r_ / (delta - 1)) ** ((delta - 1) / delta) * np.exp(theta * t * d_ / a)\n"
   ]
  },
  {
   "cell_type": "markdown",
   "metadata": {},
   "source": [
    "## Equilibrium prices/quantities\n",
    "\n",
    "### Rent and house prices\n"
   ]
  },
  {
   "cell_type": "code",
   "execution_count": 28,
   "metadata": {},
   "outputs": [],
   "source": [
    "p = lambda d: p0 * np.exp(-theta * t * d / a)\n",
    "P = lambda d: p(d) / j\n"
   ]
  },
  {
   "cell_type": "markdown",
   "metadata": {},
   "source": [
    "\n",
    "### Land prices\n"
   ]
  },
  {
   "cell_type": "code",
   "execution_count": 29,
   "metadata": {},
   "outputs": [],
   "source": [
    "r = lambda d: r_ * np.exp(-B * (d_ - d))\n",
    "\n"
   ]
  },
  {
   "cell_type": "markdown",
   "metadata": {},
   "source": [
    "### Land quantity\n"
   ]
  },
  {
   "cell_type": "code",
   "execution_count": 30,
   "metadata": {},
   "outputs": [],
   "source": [
    "L = lambda d: a * (delta * c0 * j) ** (1 / (delta - 1)) * p(d) ** (delta / (1 - delta))\n",
    "L_density = lambda d: 1 / L(d)"
   ]
  },
  {
   "cell_type": "markdown",
   "metadata": {},
   "source": [
    "### Housing quantity"
   ]
  },
  {
   "cell_type": "code",
   "execution_count": 31,
   "metadata": {},
   "outputs": [],
   "source": [
    "H = lambda d: a / p(d)\n",
    "h = lambda d: H(d) / L(d)\n"
   ]
  },
  {
   "cell_type": "markdown",
   "metadata": {},
   "source": [
    "### Utility"
   ]
  },
  {
   "cell_type": "code",
   "execution_count": 32,
   "metadata": {},
   "outputs": [],
   "source": [
    "U = W - (1 - theta) * t_ - a + a * np.log(a) - a * np.log(p0)"
   ]
  },
  {
   "cell_type": "markdown",
   "metadata": {},
   "source": [
    "### Differential land rents"
   ]
  },
  {
   "cell_type": "code",
   "execution_count": 33,
   "metadata": {},
   "outputs": [],
   "source": [
    "diff_land_rents, error = quad(lambda d: 2 * np.pi * d * (r(d) - r_), 0, d_)\n"
   ]
  },
  {
   "cell_type": "markdown",
   "metadata": {},
   "source": [
    "## Calculate prices/quantities at a range of distances from the city centre"
   ]
  },
  {
   "cell_type": "code",
   "execution_count": 34,
   "metadata": {},
   "outputs": [],
   "source": [
    "d = np.linspace(0, 1.5, 301)\n",
    "\n",
    "eq = pd.DataFrame({'p(d)': p(d),\n",
    "                   'P(d)': P(d),\n",
    "                   'r(d)': r(d),\n",
    "                   'L(d)': L(d),\n",
    "                   '1/L(d)': L_density(d),\n",
    "                   'H(d)': H(d),\n",
    "                   'h(d)': h(d),\n",
    "                   'r_': r_})\n",
    "eq.index = d\n",
    "\n"
   ]
  },
  {
   "cell_type": "markdown",
   "metadata": {},
   "source": [
    "## Price and rent plot\n"
   ]
  },
  {
   "cell_type": "code",
   "execution_count": null,
   "metadata": {},
   "outputs": [],
   "source": [
    "eq['r(d)'].plot(label='Land price')\n",
    "eq['P(d)'].plot(label='House price')\n",
    "eq['r_'].plot(label='Farm land price')\n",
    "eq['p(d)'].plot(label='House rents', c='gold')\n",
    "plt.legend()\n",
    "plt.show()"
   ]
  },
  {
   "cell_type": "markdown",
   "metadata": {},
   "source": [
    "## Check against original"
   ]
  },
  {
   "cell_type": "code",
   "execution_count": 36,
   "metadata": {},
   "outputs": [],
   "source": [
    "original = pd.read_csv('../original/output/original_output.csv', index_col=0)\n",
    "\n",
    "# check that the original and new solutions are the same\n",
    "assert np.allclose(original, eq)"
   ]
  },
  {
   "cell_type": "markdown",
   "metadata": {},
   "source": [
    "## New symmetrical plot"
   ]
  },
  {
   "cell_type": "code",
   "execution_count": 46,
   "metadata": {},
   "outputs": [],
   "source": [
    "# create a plot like the above but symmetric about d = 0 to represent the cross-section of a city\n",
    "\n",
    "# first, take the required columns from the dataframe except the first row, and reverse the order\n",
    "# then, append the original dataframe to the reversed dataframe\n",
    "\n",
    "# taking the r(d) P(d), r_ and p(d) columns, and renaming them 'Land price', House price', 'Farm land price', and 'House rents'\n",
    "\n",
    "negatives = eq[['r(d)', 'P(d)', 'r_', 'p(d)']].iloc[1:].iloc[::-1]\n",
    "negatives.index = -negatives.index\n",
    "symmetric = pd.concat([negatives, eq[['r(d)', 'P(d)', 'r_', 'p(d)']]], axis=0)\n",
    "symmetric.columns = ['Land price', 'House price', 'Rural land price', 'House rents']\n"
   ]
  },
  {
   "cell_type": "code",
   "execution_count": 82,
   "metadata": {},
   "outputs": [
    {
     "data": {
      "image/png": "[encoded data removed]",
      "text/plain": [
       "<Figure size 1000x600 with 1 Axes>"
      ]
     },
     "metadata": {},
     "output_type": "display_data"
    }
   ],
   "source": [
    "# plot the houe rents in gold, land price in blue, the rural land price in green and the house price in orange\n",
    "# shade the area between the house price and the rural land price in blue with 30% transparency\n",
    "\n",
    "# define colours\n",
    "\n",
    "GOLD = np.array((241, 164, 45))/255\n",
    "BLUE = np.array((0, 79, 103))/255\n",
    "GREEN = np.array((103, 168, 84))/255\n",
    "ORANGE = np.array((220,88,42))/255\n",
    "\n",
    "LINEWIDTH = 2\n",
    "\n",
    "plt.figure(figsize=(10, 6))\n",
    "plt.plot(symmetric['House rents'].loc[abs(symmetric.index) <= d_], label = 'House rents', color=GOLD, linewidth=LINEWIDTH)\n",
    "plt.plot(symmetric['Land price'], label = 'Land price', color=BLUE, linewidth=LINEWIDTH)\n",
    "plt.plot(symmetric['Rural land price'], label = 'Rural land price', color=GREEN, linewidth=LINEWIDTH)\n",
    "plt.plot(symmetric['House price'].loc[abs(symmetric.index) <= d_], label = 'House price', color=ORANGE, linewidth=LINEWIDTH)\n",
    "# put the legend outside the plot, horizontally at the bottom\n",
    "plt.legend(bbox_to_anchor=(0., -0.2, 1., .102), loc='lower left',\n",
    "              ncol=4, mode=\"expand\", borderaxespad=0., frameon=False)\n",
    "# shade the area between the house price and the rural land price in blue with 30% transparency\n",
    "plt.fill_between(symmetric.index[abs(symmetric.index) <= d_], symmetric['Land price'].loc[abs(symmetric.index) <= d_], \n",
    "                    symmetric['Rural land price'].loc[abs(symmetric.index) <= d_], color=BLUE, alpha=0.3)\n",
    "# format plot in the tufte style using matplotlib\n",
    "for spine in plt.gca().spines.values():\n",
    "    spine.set_visible(False)\n",
    "\n",
    "# make tick marks invisible\n",
    "plt.tick_params(axis='both', which='both', bottom=False, top=False, labelbottom=True, left=False, right=False, labelleft=True)\n",
    "plt.gca().set_xlabel('Distance from city centre', fontsize=16)\n",
    "plt.gca().set_title('Closed competitive model', fontsize=18)\n",
    "plt.show()\n"
   ]
  },
  {
   "cell_type": "code",
   "execution_count": 69,
   "metadata": {},
   "outputs": [
    {
     "data": {
      "text/plain": [
       "(0.0,\n",
       " 0.01,\n",
       " 0.02,\n",
       " 0.03,\n",
       " 0.04,\n",
       " 0.05,\n",
       " 0.06,\n",
       " 0.07,\n",
       " 0.08,\n",
       " 0.09,\n",
       " 0.1,\n",
       " 0.11,\n",
       " 0.12,\n",
       " 0.13,\n",
       " 0.14,\n",
       " 0.15,\n",
       " 0.16,\n",
       " 0.17,\n",
       " 0.18,\n",
       " 0.19,\n",
       " 0.2,\n",
       " 0.21,\n",
       " 0.22,\n",
       " 0.23,\n",
       " 0.24,\n",
       " 0.25,\n",
       " 0.26,\n",
       " 0.27,\n",
       " 0.28,\n",
       " 0.29,\n",
       " 0.3,\n",
       " 0.31,\n",
       " 0.32,\n",
       " 0.33,\n",
       " 0.34,\n",
       " 0.35000000000000003,\n",
       " 0.36,\n",
       " 0.37,\n",
       " 0.38,\n",
       " 0.39,\n",
       " 0.4,\n",
       " 0.41000000000000003,\n",
       " 0.42,\n",
       " 0.43,\n",
       " 0.44,\n",
       " 0.45,\n",
       " 0.46,\n",
       " 0.47000000000000003,\n",
       " 0.48,\n",
       " 0.49,\n",
       " 0.5,\n",
       " 0.51,\n",
       " 0.52,\n",
       " 0.53,\n",
       " 0.54,\n",
       " 0.55,\n",
       " 0.56,\n",
       " 0.5700000000000001,\n",
       " 0.58,\n",
       " 0.59,\n",
       " 0.6,\n",
       " 0.61,\n",
       " 0.62,\n",
       " 0.63,\n",
       " 0.64,\n",
       " 0.65,\n",
       " 0.66,\n",
       " 0.67,\n",
       " 0.68,\n",
       " 0.6900000000000001,\n",
       " 0.7000000000000001,\n",
       " 0.71,\n",
       " 0.72,\n",
       " 0.73,\n",
       " 0.74,\n",
       " 0.75,\n",
       " 0.76,\n",
       " 0.77,\n",
       " 0.78,\n",
       " 0.79,\n",
       " 0.8,\n",
       " 0.81,\n",
       " 0.8200000000000001,\n",
       " 0.8300000000000001,\n",
       " 0.84,\n",
       " 0.85,\n",
       " 0.86,\n",
       " 0.87,\n",
       " 0.88,\n",
       " 0.89,\n",
       " 0.9,\n",
       " 0.91,\n",
       " 0.92,\n",
       " 0.93,\n",
       " 0.9400000000000001,\n",
       " 0.9500000000000001,\n",
       " 0.96,\n",
       " 0.97,\n",
       " 0.98,\n",
       " 0.99)"
      ]
     },
     "execution_count": 69,
     "metadata": {},
     "output_type": "execute_result"
    }
   ],
   "source": [
    "a = np.arange(0, 1, 0.01)\n",
    "tuple(a)"
   ]
  }
 ],
 "metadata": {
  "kernelspec": {
   "display_name": "Python 3",
   "language": "python",
   "name": "python3"
  },
  "language_info": {
   "codemirror_mode": {
    "name": "ipython",
    "version": 3
   },
   "file_extension": ".py",
   "mimetype": "text/x-python",
   "name": "python",
   "nbconvert_exporter": "python",
   "pygments_lexer": "ipython3",
   "version": "3.11.4"
  },
  "orig_nbformat": 4
 },
 "nbformat": 4,
 "nbformat_minor": 2
}
